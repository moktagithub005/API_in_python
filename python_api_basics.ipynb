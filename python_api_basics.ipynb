{
 "cells": [
  {
   "cell_type": "markdown",
   "id": "71fb114c",
   "metadata": {},
   "source": [
    "🌐 Using a Web API to Visualize GitHub's Most-Starred Python Projects\n",
    "📘 What Is a Web API?\n",
    "A Web API (Application Programming Interface) is a service provided by a website that allows external programs to interact with it using specific URLs, known as API calls. These API calls typically return data in structured formats such as JSON or CSV, which are easy to process in programming environments.\n",
    "\n",
    "Many modern applications depend on external data sources—for example, weather apps, social media integrations, and developer tools—all of which rely heavily on API calls.\n",
    "\n",
    "🐙 Git and GitHub Overview\n",
    "What is Git?\n",
    "Git is a distributed version control system that helps developers track changes in code and collaborate without interfering with each other’s work. When developers work on a new feature or fix a bug, Git records all changes made to files. Once the code is ready, a developer can commit these changes, allowing for easy rollback if needed.\n",
    "\n",
    "What is GitHub?\n",
    "GitHub is a cloud-based hosting platform for Git repositories. It enables developers to:\n",
    "\n",
    "Host code repositories.\n",
    "\n",
    "Collaborate with others.\n",
    "\n",
    "Report and manage bugs/issues.\n",
    "\n",
    "Star and track other projects.\n",
    "\n",
    "Projects on GitHub are stored in repositories, which include:\n",
    "\n",
    "Source code\n",
    "\n",
    "Collaborator information\n",
    "\n",
    "Issue trackers\n",
    "\n",
    "Pull requests\n",
    "\n",
    "Documentation\n",
    "\n",
    "Users can \"star\" repositories they find useful or want to follow. The number of stars often reflects the popularity or quality of a project.\n",
    "\n",
    "📡 Accessing GitHub Data Using Its API\n",
    "GitHub provides a powerful RESTful API for accessing data about repositories, users, issues, pull requests, and more.\n",
    "\n",
    "To explore the GitHub API, try opening the following URL in your web browser:\n",
    "\n",
    "bash\n",
    "Copy\n",
    "Edit\n",
    "https://api.github.com/search/repositories?q=language:python&sort=stars\n",
    "This API call searches for repositories:\n",
    "\n",
    "Written in the Python programming language.\n",
    "\n",
    "Sorted by the number of stars in descending order.\n",
    "\n",
    "🔍 Understanding the URL\n",
    "https://api.github.com/: This is the base URL for GitHub's API.\n",
    "\n",
    "search/repositories: This endpoint searches GitHub repositories.\n",
    "\n",
    "?q=language:python: The q parameter stands for query and specifies the search term (language:python).\n",
    "\n",
    "&sort=stars: Sorts the results by the number of stars (most popular first)."
   ]
  },
  {
   "cell_type": "code",
   "execution_count": 1,
   "id": "889f7e5f",
   "metadata": {},
   "outputs": [],
   "source": [
    "import requests"
   ]
  },
  {
   "cell_type": "code",
   "execution_count": 3,
   "id": "1c93b779",
   "metadata": {},
   "outputs": [
    {
     "name": "stdout",
     "output_type": "stream",
     "text": [
      "status code: 200\n",
      "dict_keys(['total_count', 'incomplete_results', 'items'])\n"
     ]
    }
   ],
   "source": [
    "##make a api call and store the response\n",
    "url = 'https://api.github.com/search/repositories?q=language:python&sort=stars'\n",
    "r=requests.get(url)\n",
    "print(\"status code:\",r.status_code)\n",
    "## strore api response in a vriable\n",
    "response_dict=r.json()\n",
    "\n",
    "##process results\n",
    "print(response_dict.keys())"
   ]
  },
  {
   "cell_type": "markdown",
   "id": "f413d7dc",
   "metadata": {},
   "source": [
    "📥 Making an API Call to GitHub Using requests\n",
    "Let's walk through how to make a simple API call using Python and the requests module.\n",
    "\n",
    "🔧 Step-by-Step Breakdown\n",
    "\n",
    "import requests  # ← (u) Import the requests module\n",
    "At (u), we import the requests module, which allows us to send HTTP requests easily.\n",
    "\n",
    "\n",
    "url = 'https://api.github.com/search/repositories?q=language:python&sort=stars'  # ← (v) Store the URL\n",
    "At (v), we define the URL of the API endpoint. This GitHub API call searches for Python repositories, sorted by the number of stars.\n",
    "\n",
    "\n",
    "r = requests.get(url)  # ← (w) Make the API call\n",
    "At (w), we use the requests.get() method to make the API call and store the response in the variable r.\n",
    "\n",
    "\n",
    "print(\"Status code:\", r.status_code)  # ← (x) Check the status\n",
    "At (x), we print the status code to verify whether the request was successful.\n",
    "\n",
    "A code of 200 means the request was successful.\n",
    "\n",
    "Other codes (e.g., 404, 403, 500) indicate errors.\n",
    "\n",
    "\n",
    "response_dict = r.json()  # ← (y) Convert to a dictionary\n",
    "At (y), we use the .json() method to convert the API response from JSON format into a Python dictionary, which is easier to work with in code.\n",
    "\n",
    "t\n",
    "print(response_dict.keys())\n",
    "Finally, we print the keys of the dictionary to see what kind of information GitHub has returned. These typically include:\n",
    "\n",
    "'total_count': total matching repositories\n",
    "\n",
    "'incomplete_results': whether the result set is complete\n",
    "\n",
    "'items': a list of actual repository data\n",
    "\n",
    "✅ Example Output\n",
    "\n",
    "dict_keys(['total_count', 'incomplete_results', 'items'])\n",
    "This output confirms that the API has returned a dictionary with useful information we can further explore and visualize."
   ]
  },
  {
   "cell_type": "code",
   "execution_count": null,
   "id": "bc01c1f6",
   "metadata": {},
   "outputs": [],
   "source": []
  }
 ],
 "metadata": {
  "kernelspec": {
   "display_name": "radar_env",
   "language": "python",
   "name": "python3"
  },
  "language_info": {
   "codemirror_mode": {
    "name": "ipython",
    "version": 3
   },
   "file_extension": ".py",
   "mimetype": "text/x-python",
   "name": "python",
   "nbconvert_exporter": "python",
   "pygments_lexer": "ipython3",
   "version": "3.9.21"
  }
 },
 "nbformat": 4,
 "nbformat_minor": 5
}
